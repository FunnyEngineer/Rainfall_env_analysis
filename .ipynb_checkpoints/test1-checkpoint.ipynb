{
 "cells": [
  {
   "cell_type": "code",
   "execution_count": 1,
   "metadata": {},
   "outputs": [],
   "source": [
    "from netCDF4 import Dataset\n",
    "import matplotlib.pyplot as plt\n",
    "import matplotlib.image as mpimg\n",
    "import numpy as np\n",
    "from scipy import signal\n",
    "from sklearn.preprocessing import normalize"
   ]
  },
  {
   "cell_type": "code",
   "execution_count": 4,
   "metadata": {},
   "outputs": [],
   "source": [
    "rootgrp = Dataset(\"./data/ERA5/download_ 1979.nc\", \"r+\", format=\"NETCDF4\")"
   ]
  },
  {
   "cell_type": "code",
   "execution_count": 5,
   "metadata": {},
   "outputs": [
    {
     "data": {
      "text/plain": [
       "(13, 17)"
      ]
     },
     "execution_count": 5,
     "metadata": {},
     "output_type": "execute_result"
    }
   ],
   "source": [
    "rootgrp.variables['r'][:][0].shape"
   ]
  },
  {
   "cell_type": "markdown",
   "metadata": {},
   "source": [
    "So we got a (13 x 17 x 7) matrix in each element"
   ]
  },
  {
   "cell_type": "code",
   "execution_count": 6,
   "metadata": {},
   "outputs": [],
   "source": [
    "r = rootgrp.variables['r'][:][0]\n",
    "a = normalize(rootgrp.variables['r'][:][0])"
   ]
  },
  {
   "cell_type": "code",
   "execution_count": 7,
   "metadata": {},
   "outputs": [
    {
     "data": {
      "image/png": "[encoded data removed]",
      "text/plain": [
       "<Figure size 432x288 with 1 Axes>"
      ]
     },
     "metadata": {
      "needs_background": "light"
     },
     "output_type": "display_data"
    }
   ],
   "source": [
    "imgplot = plt.imshow((rootgrp.variables['r'][:][0]))"
   ]
  },
  {
   "cell_type": "code",
   "execution_count": 8,
   "metadata": {},
   "outputs": [
    {
     "data": {
      "image/png": "[encoded data removed]",
      "text/plain": [
       "<Figure size 432x288 with 1 Axes>"
      ]
     },
     "metadata": {
      "needs_background": "light"
     },
     "output_type": "display_data"
    }
   ],
   "source": [
    "imgplot = plt.imshow(normalize(r), cmap=plt.get_cmap('Greys'), interpolation='nearest',\n",
    "                  vmin=0, vmax=1)\n",
    "# print(r)"
   ]
  },
  {
   "cell_type": "code",
   "execution_count": 7,
   "metadata": {},
   "outputs": [],
   "source": [
    "scharr=np.array([[1,2,1],\n",
    "                [2,4,2],\n",
    "                [1,2,1]])"
   ]
  },
  {
   "cell_type": "code",
   "execution_count": 8,
   "metadata": {},
   "outputs": [],
   "source": [
    "def Two_layer_conv2d(old_arr):\n",
    "    mid=signal.convolve2d(old_arr,scharr,boundary='fill',mode='valid')\n",
    "    new_arr=signal.convolve2d(mid,scharr,boundary='fill',mode='valid')\n",
    "    return new_arr"
   ]
  },
  {
   "cell_type": "markdown",
   "metadata": {},
   "source": [
    "## test_PCA"
   ]
  },
  {
   "cell_type": "code",
   "execution_count": 14,
   "metadata": {},
   "outputs": [
    {
     "name": "stdout",
     "output_type": "stream",
     "text": [
      "(8496, 13, 17)\n"
     ]
    }
   ],
   "source": [
    "print((rootgrp.variables['z'][:].shape))\n",
    "data = np.ndarray(shape=(8496,7,13,17), dtype=float)\n",
    "j = 0\n",
    "for i in list(rootgrp.variables.keys())[3:]:\n",
    "    data[:,j,:,:] = rootgrp.variables[i][:]\n",
    "    j+=1"
   ]
  },
  {
   "cell_type": "code",
   "execution_count": 19,
   "metadata": {},
   "outputs": [
    {
     "name": "stdout",
     "output_type": "stream",
     "text": [
      "[[13048259.91649675 13041172.17360242 13034080.42385074 13026890.69997416\n",
      "  13019619.93417629 13012385.10084113 13005254.57505057 12998206.25446245\n",
      "  12991251.38412803 12984494.01308501 12978010.53012998 12971741.60792344\n",
      "  12965576.99326151]\n",
      " [13050730.85494796 13043655.39113262 13036619.47887693 13029575.55290655\n",
      "  13022554.8925595  13015629.10425425 13008799.6097789  13002022.20444912\n",
      "  12995334.37176916 12988856.83447342 12982649.69542218 12976649.62041858\n",
      "  12970779.57439871]\n",
      " [13055433.35443701 13048371.33298181 13041370.0606542  13034456.80993486\n",
      "  13027623.17934869 13020855.2095217  13014145.79151344 13007514.18408986\n",
      "  13001025.14323592 12994752.98969281 12988723.18639273 12982914.4065143\n",
      "  12977309.20084001]\n",
      " [13061540.19280101 13054566.451461   13047662.1192306  13040933.57170982\n",
      "  13034325.4884165  13027736.40538224 13021157.79187847 13014667.19998298\n",
      "  13008343.73281507 13002225.6493998  12996333.24253084 12990693.91394233\n",
      "  12985326.53463987]\n",
      " [13068741.54948926 13061914.12306932 13055172.00393492 13048674.56160589\n",
      "  13042341.40042827 13036013.92640302 13029660.47243171 13023365.05326527\n",
      "  13017212.84693578 13011251.16021067 13005521.48345156 13000068.15059624\n",
      "  12994910.0326503 ]\n",
      " [13077257.67240264 13070584.57461747 13064045.3834199  13057799.20982284\n",
      "  13051739.2904659  13045681.69767128 13039574.4715469  13033490.89880623\n",
      "  13027528.69506728 13021761.14704352 13016235.04448856 13010975.85033459\n",
      "  13005997.00694176]\n",
      " [13087317.85718443 13080804.77518638 13074495.78440633 13068493.3828404\n",
      "  13062651.51407545 13056788.96475643 13050865.0200425  13044962.14364304\n",
      "  13039195.11263314 13033643.28863905 13028326.31818714 13023242.77948932\n",
      "  13018426.66620634]\n",
      " [13098864.97380399 13092554.81974277 13086489.08397999 13080677.46052537\n",
      "  13074956.57300175 13069196.52167884 13063400.92565363 13057660.5208571\n",
      "  13052079.87334077 13046719.34447185 13041576.2199276  13036650.49970804\n",
      "  13032012.62695047]\n",
      " [13111563.60952497 13105512.35015004 13099687.67209567 13093992.3767577\n",
      "  13088292.42829507 13082568.82644872 13076888.26600553 13071315.24444352\n",
      "  13065896.29300934 13060666.95640531 13055645.71787663 13050870.31943448\n",
      "  13046426.06836442]]\n"
     ]
    }
   ],
   "source": [
    "new_data = np.ndarray(shape=(8496,7,9,13), dtype=float)\n",
    "for i in range(data.shape[0]):\n",
    "    for j in range(data.shape[1]):\n",
    "        new_data[i][j] = Two_layer_conv2d(data[i][j])"
   ]
  },
  {
   "cell_type": "code",
   "execution_count": 22,
   "metadata": {},
   "outputs": [
    {
     "name": "stdout",
     "output_type": "stream",
     "text": [
      "(9, 13)\n"
     ]
    }
   ],
   "source": [
    "print(new_data[0][0].shape)"
   ]
  },
  {
   "cell_type": "code",
   "execution_count": 2,
   "metadata": {},
   "outputs": [],
   "source": [
    "from sklearn.cluster import KMeans\n",
    "from sklearn.decomposition import PCA "
   ]
  },
  {
   "cell_type": "code",
   "execution_count": 11,
   "metadata": {
    "scrolled": true
   },
   "outputs": [
    {
     "name": "stdout",
     "output_type": "stream",
     "text": [
      "Epoch 1\n",
      "Epoch 2\n",
      "Epoch 3\n",
      "Epoch 4\n",
      "Epoch 5\n",
      "Epoch 6\n",
      "Epoch 7\n",
      "Epoch 8\n",
      "Epoch 9\n",
      "Epoch 10\n",
      "Epoch 11\n",
      "Epoch 12\n",
      "Epoch 13\n",
      "Epoch 14\n",
      "Epoch 15\n",
      "Epoch 16\n",
      "Epoch 17\n",
      "Epoch 18\n",
      "Epoch 19\n",
      "Epoch 20\n",
      "Epoch 21\n",
      "Epoch 22\n",
      "Epoch 23\n",
      "Epoch 24\n",
      "Epoch 25\n",
      "Epoch 26\n",
      "Epoch 27\n",
      "Epoch 28\n",
      "Epoch 29\n",
      "Epoch 30\n",
      "Epoch 31\n",
      "Epoch 32\n",
      "Epoch 33\n",
      "Epoch 34\n",
      "Epoch 35\n",
      "Epoch 36\n",
      "Epoch 37\n",
      "Epoch 38\n",
      "Epoch 39\n",
      "Epoch 40\n"
     ]
    }
   ],
   "source": [
    "pca=PCA(n_components= 30)\n",
    "data = None\n",
    "first_time = True\n",
    "for i in range(1979, 2019):\n",
    "    ds = Dataset('./data/ERA5/download_ ' + str(i) + '.nc', \"r+\", format=\"NETCDF4\")\n",
    "    sec = np.ndarray(shape=(ds.variables['t'].shape[0],7,9,13), dtype=float)\n",
    "    k=0\n",
    "    for j in list(ds.variables.keys())[3:]:\n",
    "        if ds.variables[j][:].mask == False:\n",
    "            for index,a in enumerate(ds.variables[j][:]):\n",
    "                sec[index, k, :, :] = Two_layer_conv2d(a)\n",
    "            k+=1\n",
    "    input_X = np.reshape(sec, (sec.shape[0], -1))\n",
    "    pca.fit(input_X)\n",
    "    print(\"Epoch \" + str(i-1978))"
   ]
  },
  {
   "cell_type": "code",
   "execution_count": 76,
   "metadata": {},
   "outputs": [],
   "source": [
    "from sklearn.model_selection import train_test_split\n",
    "\n",
    "# Split the `digits` data into training and test sets\n",
    "X_train, X_test = train_test_split(tran_X, test_size=0.2, random_state=42)"
   ]
  },
  {
   "cell_type": "code",
   "execution_count": 77,
   "metadata": {},
   "outputs": [
    {
     "name": "stdout",
     "output_type": "stream",
     "text": [
      "30\n"
     ]
    }
   ],
   "source": [
    "kmeans = KMeans(n_clusters=12, random_state= 100, max_iter=50000 ).fit(X_train)\n",
    "print(kmeans.n_iter_)"
   ]
  },
  {
   "cell_type": "code",
   "execution_count": 78,
   "metadata": {},
   "outputs": [
    {
     "name": "stdout",
     "output_type": "stream",
     "text": [
      "inertia    homo   compl  v-meas     ARI AMI  silhouette\n"
     ]
    },
    {
     "ename": "NameError",
     "evalue": "name 'clf' is not defined",
     "output_type": "error",
     "traceback": [
      "\u001b[0;31m---------------------------------------------------------------------------\u001b[0m",
      "\u001b[0;31mNameError\u001b[0m                                 Traceback (most recent call last)",
      "\u001b[0;32m<ipython-input-78-4951954899c4>\u001b[0m in \u001b[0;36m<module>\u001b[0;34m\u001b[0m\n\u001b[1;32m      2\u001b[0m \u001b[0mprint\u001b[0m\u001b[0;34m(\u001b[0m\u001b[0;34m'% 9s'\u001b[0m \u001b[0;34m%\u001b[0m \u001b[0;34m'inertia    homo   compl  v-meas     ARI AMI  silhouette'\u001b[0m\u001b[0;34m)\u001b[0m\u001b[0;34m\u001b[0m\u001b[0;34m\u001b[0m\u001b[0m\n\u001b[1;32m      3\u001b[0m print('%i   %.3f   %.3f   %.3f   %.3f   %.3f    %.3f'\n\u001b[0;32m----> 4\u001b[0;31m           %(clf.inertia_,\n\u001b[0m\u001b[1;32m      5\u001b[0m       \u001b[0mhomogeneity_score\u001b[0m\u001b[0;34m(\u001b[0m\u001b[0my_test\u001b[0m\u001b[0;34m,\u001b[0m \u001b[0my_pred\u001b[0m\u001b[0;34m)\u001b[0m\u001b[0;34m,\u001b[0m\u001b[0;34m\u001b[0m\u001b[0;34m\u001b[0m\u001b[0m\n\u001b[1;32m      6\u001b[0m       \u001b[0mcompleteness_score\u001b[0m\u001b[0;34m(\u001b[0m\u001b[0my_test\u001b[0m\u001b[0;34m,\u001b[0m \u001b[0my_pred\u001b[0m\u001b[0;34m)\u001b[0m\u001b[0;34m,\u001b[0m\u001b[0;34m\u001b[0m\u001b[0;34m\u001b[0m\u001b[0m\n",
      "\u001b[0;31mNameError\u001b[0m: name 'clf' is not defined"
     ]
    }
   ],
   "source": [
    "from sklearn.metrics import homogeneity_score, completeness_score, v_measure_score, adjusted_rand_score, adjusted_mutual_info_score, silhouette_score\n",
    "print('% 9s' % 'inertia    homo   compl  v-meas     ARI AMI  silhouette')\n",
    "print('%i   %.3f   %.3f   %.3f   %.3f   %.3f    %.3f'\n",
    "          %(kmeans.n_iter_,\n",
    "      homogeneity_score(y_test, y_pred),\n",
    "      completeness_score(y_test, y_pred),\n",
    "      v_measure_score(y_test, y_pred),\n",
    "      adjusted_rand_score(y_test, y_pred),\n",
    "      adjusted_mutual_info_score(y_test, y_pred),\n",
    "      silhouette_score(X_test, y_pred, metric='euclidean')))"
   ]
  },
  {
   "cell_type": "code",
   "execution_count": 37,
   "metadata": {},
   "outputs": [
    {
     "name": "stdout",
     "output_type": "stream",
     "text": [
      "{0: 1200, 1: 744, 2: 1071, 3: 990, 4: 596, 5: 825, 6: 724, 7: 223, 8: 1069, 9: 1054}\n"
     ]
    }
   ],
   "source": [
    "unique, counts = np.unique(kmeans.labels_, return_counts=True)\n",
    "print(dict(zip(unique, counts)))"
   ]
  },
  {
   "cell_type": "markdown",
   "metadata": {},
   "source": [
    "## 利用Feature map 去做"
   ]
  },
  {
   "cell_type": "code",
   "execution_count": 162,
   "metadata": {},
   "outputs": [
    {
     "name": "stdout",
     "output_type": "stream",
     "text": [
      "0.9999999210682348\n"
     ]
    }
   ],
   "source": [
    "from scipy import spatial\n",
    "result = 1 - spatial.distance.cosine(data[0], data[1])\n",
    "print(result)"
   ]
  },
  {
   "cell_type": "code",
   "execution_count": 168,
   "metadata": {},
   "outputs": [
    {
     "name": "stdout",
     "output_type": "stream",
     "text": [
      "(8496, 8496)\n",
      "[[3.39486891e-07]]\n"
     ]
    }
   ],
   "source": [
    "from sklearn.metrics.pairwise import cosine_distances\n",
    "cos_dis = cosine_distances(data)\n",
    "print(cos_dis.shape)\n"
   ]
  },
  {
   "cell_type": "code",
   "execution_count": 172,
   "metadata": {},
   "outputs": [
    {
     "data": {
      "text/plain": [
       "0.0"
      ]
     },
     "execution_count": 172,
     "metadata": {},
     "output_type": "execute_result"
    }
   ],
   "source": [
    "cos_dis[1][1]"
   ]
  },
  {
   "cell_type": "markdown",
   "metadata": {},
   "source": [
    "## 利用一層conv2d 去做"
   ]
  },
  {
   "cell_type": "code",
   "execution_count": null,
   "metadata": {},
   "outputs": [],
   "source": []
  }
 ],
 "metadata": {
  "kernelspec": {
   "display_name": "Python 3",
   "language": "python",
   "name": "python3"
  },
  "language_info": {
   "codemirror_mode": {
    "name": "ipython",
    "version": 3
   },
   "file_extension": ".py",
   "mimetype": "text/x-python",
   "name": "python",
   "nbconvert_exporter": "python",
   "pygments_lexer": "ipython3",
   "version": "3.8.3"
  }
 },
 "nbformat": 4,
 "nbformat_minor": 4
}
